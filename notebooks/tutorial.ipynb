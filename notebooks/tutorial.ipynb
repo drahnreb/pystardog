{
 "cells": [
  {
   "cell_type": "markdown",
   "metadata": {},
   "source": [
    "# Welcome to pystardog\n",
    "\n",
    "This notebook demonstrates many of the features of pystardog interactively. Select `Kernel` -> `Restart & Run All` in the menu to run all the cells in this notebook and view the output.\n",
    "\n",
    "**Warning:** if you have a database named `pystardog-tutorial` on your server, it will be dropped and recreated by this notebook. You can change the name of the database for this tutorial in the cell below this one."
   ]
  },
  {
   "cell_type": "code",
   "execution_count": 1,
   "metadata": {},
   "outputs": [],
   "source": [
    "database_name = 'pystardog-tutorial'"
   ]
  },
  {
   "cell_type": "markdown",
   "metadata": {},
   "source": [
    "## Table of contents\n",
    "\n",
    "- [Server administration](#Admininstrative-actions-on-the-server)\n",
    " - [databases](#Databases)\n",
    " - [stored queries](#Stored-Queries)\n",
    " - [virtual graphs](#Virtual-Graphs)\n",
    "- Database connections"
   ]
  },
  {
   "cell_type": "markdown",
   "metadata": {},
   "source": [
    "## Dependencies\n",
    "\n",
    "The following libraries are used:\n",
    "\n",
    "- pandas: [Data Analysis Library](https://pandas.pydata.org/)\n",
    "- seaborn: [Statistical Data Visualization](https://seaborn.pydata.org/)\n",
    "\n",
    "The following files are used to populate the database with sample data. They should be located in the same directory as this notebook.\n",
    "\n",
    "- [music schema](https://github.com/stardog-union/stardog-tutorials/raw/master/music/music_schema.ttl)\n",
    "- [music data](https://github.com/stardog-union/stardog-tutorials/raw/master/music/music.ttl.gz)"
   ]
  },
  {
   "cell_type": "code",
   "execution_count": 1,
   "metadata": {},
   "outputs": [],
   "source": [
    "import io\n",
    "import stardog\n",
    "import pandas as pd\n",
    "import seaborn as sns\n",
    "\n",
    "# Specify Stardog connection details\n",
    "connection_details = {\n",
    "  'endpoint': 'http://localhost:5820',\n",
    "  'username': 'admin',\n",
    "  'password': 'admin'\n",
    "}"
   ]
  },
  {
   "cell_type": "markdown",
   "metadata": {},
   "source": [
    "## Admininstrative actions on the server\n",
    "\n",
    "[Admin](https://pystardog.readthedocs.io/en/latest/source/stardog.html#module-stardog.admin) instances are used to administer the server."
   ]
  },
  {
   "cell_type": "code",
   "execution_count": 1,
   "metadata": {},
   "outputs": [],
   "source": [
    "admin = stardog.Admin(**connection_details)"
   ]
  },
  {
   "cell_type": "markdown",
   "metadata": {},
   "source": [
    "### Databases\n",
    "\n",
    "[Database](https://pystardog.readthedocs.io/en/latest/source/stardog.html#stardog.admin.Database) instances administer a single database.\n",
    "\n",
    "#### Retrieve a list of databases\n",
    "[docs](https://pystardog.readthedocs.io/en/latest/source/stardog.html#stardog.admin.Admin.databases)"
   ]
  },
  {
   "cell_type": "code",
   "execution_count": 1,
   "metadata": {
    "scrolled": false
   },
   "outputs": [
    {
     "data": {
      "text/plain": [
       "['test', 'pystardog-tutorial']"
      ]
     },
     "execution_count": 1,
     "metadata": {},
     "output_type": "execute_result"
    }
   ],
   "source": [
    "# output will likely vary on your system\n",
    "[db.name for db in admin.databases()]"
   ]
  },
  {
   "cell_type": "markdown",
   "metadata": {},
   "source": [
    "#### Drop a database\n",
    "\n",
    "[docs](https://pystardog.readthedocs.io/en/latest/source/stardog.html#stardog.admin.Database.drop)"
   ]
  },
  {
   "cell_type": "code",
   "execution_count": 1,
   "metadata": {},
   "outputs": [],
   "source": [
    "if database_name in [db.name for db in admin.databases()]:\n",
    "    admin.database(database_name).drop()"
   ]
  },
  {
   "cell_type": "markdown",
   "metadata": {},
   "source": [
    "#### Create a new database\n",
    "\n",
    "Configuration parameters can be easily set while creating the database.\n",
    "\n",
    "[docs](https://pystardog.readthedocs.io/en/latest/source/stardog.html#stardog.admin.Admin.new_database)"
   ]
  },
  {
   "cell_type": "code",
   "execution_count": 1,
   "metadata": {},
   "outputs": [],
   "source": [
    "db = admin.new_database(database_name, {'search.enabled': True})"
   ]
  },
  {
   "cell_type": "markdown",
   "metadata": {},
   "source": [
    "#### Get a  database instance\n",
    "\n",
    "[docs](https://pystardog.readthedocs.io/en/latest/source/stardog.html#stardog.admin.Admin.database)"
   ]
  },
  {
   "cell_type": "code",
   "execution_count": 1,
   "metadata": {},
   "outputs": [],
   "source": [
    "db = admin.database(database_name)"
   ]
  },
  {
   "cell_type": "markdown",
   "metadata": {},
   "source": [
    "#### Get options\n",
    "[docs](https://pystardog.readthedocs.io/en/latest/source/stardog.html#stardog.admin.Database.get_options)"
   ]
  },
  {
   "cell_type": "code",
   "execution_count": 1,
   "metadata": {},
   "outputs": [
    {
     "data": {
      "text/plain": [
       "{'spatial.enabled': False, 'search.enabled': True}"
      ]
     },
     "execution_count": 1,
     "metadata": {},
     "output_type": "execute_result"
    }
   ],
   "source": [
    "db.get_options('search.enabled', 'spatial.enabled')"
   ]
  },
  {
   "cell_type": "markdown",
   "metadata": {},
   "source": [
    "#### Set options\n",
    "[docs](https://pystardog.readthedocs.io/en/latest/source/stardog.html#stardog.admin.Database.set_options)"
   ]
  },
  {
   "cell_type": "code",
   "execution_count": 1,
   "metadata": {},
   "outputs": [],
   "source": [
    "db.offline() # the database must be offline to change some options\n",
    "db.set_options({'spatial.enabled': False})\n",
    "db.online()"
   ]
  },
  {
   "cell_type": "markdown",
   "metadata": {},
   "source": [
    "### Stored Queries\n",
    "\n",
    "[StoredQuery](https://pystardog.readthedocs.io/en/latest/source/stardog.html#stardog.admin.StoredQuery) instances manage stored queries on the server."
   ]
  },
  {
   "cell_type": "markdown",
   "metadata": {},
   "source": [
    "#### Create a new stored query"
   ]
  },
  {
   "cell_type": "code",
   "execution_count": 1,
   "metadata": {},
   "outputs": [
    {
     "data": {
      "text/plain": [
       "<stardog.admin.StoredQuery at 0x11f858af0>"
      ]
     },
     "execution_count": 1,
     "metadata": {},
     "output_type": "execute_result"
    }
   ],
   "source": [
    "admin.new_stored_query(\n",
    "    'all_triples',\n",
    "    'select * where { ?s ?p ?o . }',\n",
    "    { 'database': database_name }\n",
    ")"
   ]
  },
  {
   "cell_type": "markdown",
   "metadata": {},
   "source": [
    "#### List stored queries\n",
    "[docs](https://pystardog.readthedocs.io/en/latest/source/stardog.html#stardog.admin.Admin.stored_queries)"
   ]
  },
  {
   "cell_type": "code",
   "execution_count": 1,
   "metadata": {},
   "outputs": [
    {
     "data": {
      "text/plain": [
       "['all_triples']"
      ]
     },
     "execution_count": 1,
     "metadata": {},
     "output_type": "execute_result"
    }
   ],
   "source": [
    "[sq.name for sq in admin.stored_queries()]"
   ]
  },
  {
   "cell_type": "markdown",
   "metadata": {},
   "source": [
    "#### Get a stored query\n",
    "[docs](https://pystardog.readthedocs.io/en/latest/source/stardog.html#stardog.admin.Admin.stored_query)"
   ]
  },
  {
   "cell_type": "code",
   "execution_count": 1,
   "metadata": {},
   "outputs": [],
   "source": [
    "sq = admin.stored_query('all_triples')"
   ]
  },
  {
   "cell_type": "markdown",
   "metadata": {},
   "source": [
    "#### Delete a stored query\n",
    "[docs](https://pystardog.readthedocs.io/en/latest/source/stardog.html#stardog.admin.StoredQuery.delete)"
   ]
  },
  {
   "cell_type": "code",
   "execution_count": 1,
   "metadata": {},
   "outputs": [],
   "source": [
    "sq.delete()"
   ]
  },
  {
   "cell_type": "markdown",
   "metadata": {},
   "source": [
    "### Virtual Graphs\n",
    "[Stardog documentation](https://docs.stardog.com/virtual-graph)\n",
    "\n",
    "[VirtualGraph](https://pystardog.readthedocs.io/en/latest/source/stardog.html#stardog.admin.VirtualGraph) instances manage virtual graphs on the server."
   ]
  },
  {
   "cell_type": "markdown",
   "metadata": {},
   "source": [
    "#### Create a new virtual graph\n",
    "[docs](https://pystardog.readthedocs.io/en/latest/source/stardog.html#stardog.admin.Admin.new_virtual_graph)"
   ]
  },
  {
   "cell_type": "code",
   "execution_count": 1,
   "metadata": {
    "scrolled": true
   },
   "outputs": [],
   "source": [
    "example_vg_options = {\n",
    "        \"jdbc.driver\": \"com.mysql.jdbc.Driver\",\n",
    "        \"jdbc.username\": \"admin\",\n",
    "        \"jdbc.password\": \"admin\",\n",
    "        \"jdbc.url\": \"jdbc:mysql://localhost/my_db\"\n",
    "}\n",
    "\n",
    "#admin.new_virtual_graph('vg', content.File('path/to/mapping_file.ttl'), example_vg_options)"
   ]
  },
  {
   "cell_type": "markdown",
   "metadata": {},
   "source": [
    "## Connections to Stardog databases\n",
    "\n",
    "[Connection](https://pystardog.readthedocs.io/en/latest/source/stardog.html#module-stardog.connection) instances are used for all user-related operations on a Stardog database."
   ]
  },
  {
   "cell_type": "code",
   "execution_count": 1,
   "metadata": {},
   "outputs": [],
   "source": [
    "conn = stardog.Connection(database_name, **connection_details)"
   ]
  },
  {
   "cell_type": "markdown",
   "metadata": {},
   "source": [
    "### Transactions\n",
    "#### Start a transaction"
   ]
  },
  {
   "cell_type": "code",
   "execution_count": 1,
   "metadata": {},
   "outputs": [
    {
     "data": {
      "text/plain": [
       "'1bd9e714-f595-4719-b667-2d53c7e2b025'"
      ]
     },
     "execution_count": 1,
     "metadata": {},
     "output_type": "execute_result"
    }
   ],
   "source": [
    "conn.begin()"
   ]
  },
  {
   "cell_type": "markdown",
   "metadata": {},
   "source": [
    "#### Add data\n",
    "\n",
    "[docs](https://pystardog.readthedocs.io/en/latest/source/stardog.html#stardog.connection.Connection.add)"
   ]
  },
  {
   "cell_type": "code",
   "execution_count": 1,
   "metadata": {},
   "outputs": [],
   "source": [
    "conn.add(stardog.content.File('music_schema.ttl'))"
   ]
  },
  {
   "cell_type": "code",
   "execution_count": 1,
   "metadata": {},
   "outputs": [],
   "source": [
    "conn.add(stardog.content.File('music.ttl.gz'))"
   ]
  },
  {
   "cell_type": "markdown",
   "metadata": {},
   "source": [
    "#### Commit the transaction\n",
    "\n",
    "[docs]()"
   ]
  },
  {
   "cell_type": "code",
   "execution_count": 1,
   "metadata": {},
   "outputs": [],
   "source": [
    "conn.commit() # commit the transaction\n",
    "# alternately, conn.rollback() to cancel"
   ]
  },
  {
   "cell_type": "markdown",
   "metadata": {},
   "source": [
    "### Query the database\n",
    "\n",
    "This query returns the date the album was released for each album in the database."
   ]
  },
  {
   "cell_type": "code",
   "execution_count": 1,
   "metadata": {
    "scrolled": true
   },
   "outputs": [
    {
     "data": {
      "text/html": [
       "<div>\n",
       "<style scoped>\n",
       "    .dataframe tbody tr th:only-of-type {\n",
       "        vertical-align: middle;\n",
       "    }\n",
       "\n",
       "    .dataframe tbody tr th {\n",
       "        vertical-align: top;\n",
       "    }\n",
       "\n",
       "    .dataframe thead th {\n",
       "        text-align: right;\n",
       "    }\n",
       "</style>\n",
       "<table border=\"1\" class=\"dataframe\">\n",
       "  <thead>\n",
       "    <tr style=\"text-align: right;\">\n",
       "      <th></th>\n",
       "      <th>date</th>\n",
       "    </tr>\n",
       "  </thead>\n",
       "  <tbody>\n",
       "    <tr>\n",
       "      <th>0</th>\n",
       "      <td>1977-10-14</td>\n",
       "    </tr>\n",
       "    <tr>\n",
       "      <th>1</th>\n",
       "      <td>2006-01-01</td>\n",
       "    </tr>\n",
       "    <tr>\n",
       "      <th>2</th>\n",
       "      <td>2011-09-09</td>\n",
       "    </tr>\n",
       "    <tr>\n",
       "      <th>3</th>\n",
       "      <td>1988-08-25</td>\n",
       "    </tr>\n",
       "    <tr>\n",
       "      <th>4</th>\n",
       "      <td>1978-03-24</td>\n",
       "    </tr>\n",
       "  </tbody>\n",
       "</table>\n",
       "</div>"
      ],
      "text/plain": [
       "         date\n",
       "0  1977-10-14\n",
       "1  2006-01-01\n",
       "2  2011-09-09\n",
       "3  1988-08-25\n",
       "4  1978-03-24"
      ]
     },
     "execution_count": 1,
     "metadata": {},
     "output_type": "execute_result"
    }
   ],
   "source": [
    "query = \"\"\"\n",
    "SELECT ?date WHERE {\n",
    "  ?s a <http://stardog.com/tutorial/Album> ;\n",
    "    <http://stardog.com/tutorial/date> ?date .\n",
    "}\n",
    "\"\"\"\n",
    "\n",
    "csv_results = conn.select(query, content_type=stardog.content_types.CSV)\n",
    "df = pd.read_csv(io.BytesIO(csv_results))\n",
    "df.head()"
   ]
  },
  {
   "cell_type": "markdown",
   "metadata": {},
   "source": [
    "### Plot the number of albums released in each month"
   ]
  },
  {
   "cell_type": "code",
   "execution_count": 1,
   "metadata": {
    "scrolled": true
   },
   "outputs": [
    {
     "data": {
      "text/plain": [
       "<AxesSubplot:xlabel='month', ylabel='count'>"
      ]
     },
     "execution_count": 1,
     "metadata": {},
     "output_type": "execute_result"
    },
    {
     "data": {
      "image/png": "[encoded data removed]",
      "text/plain": [
       "<Figure size 432x288 with 1 Axes>"
      ]
     },
     "metadata": {},
     "output_type": "display_data"
    }
   ],
   "source": [
    "df['month'] = df['date'].str.split('-').str[1] #Extract the month from the dates\n",
    "sns.set(style=\"darkgrid\")\n",
    "sns.countplot(x='month', data=df)"
   ]
  },
  {
   "cell_type": "markdown",
   "metadata": {},
   "source": [
    "### Parameterized query\n",
    "\n",
    "Use the bindings argument to safely parameterize a query. This example demonstrates how to pass a parameter to a  [Full-text Search](https://docs.stardog.com/query-stardog/full-text-search) query."
   ]
  },
  {
   "cell_type": "code",
   "execution_count": 1,
   "metadata": {},
   "outputs": [
    {
     "data": {
      "text/html": [
       "<div>\n",
       "<style scoped>\n",
       "    .dataframe tbody tr th:only-of-type {\n",
       "        vertical-align: middle;\n",
       "    }\n",
       "\n",
       "    .dataframe tbody tr th {\n",
       "        vertical-align: top;\n",
       "    }\n",
       "\n",
       "    .dataframe thead th {\n",
       "        text-align: right;\n",
       "    }\n",
       "</style>\n",
       "<table border=\"1\" class=\"dataframe\">\n",
       "  <thead>\n",
       "    <tr style=\"text-align: right;\">\n",
       "      <th></th>\n",
       "      <th>score</th>\n",
       "      <th>source</th>\n",
       "      <th>class</th>\n",
       "      <th>result</th>\n",
       "    </tr>\n",
       "  </thead>\n",
       "  <tbody>\n",
       "    <tr>\n",
       "      <th>0</th>\n",
       "      <td>11.454201</td>\n",
       "      <td>http://stardog.com/tutorial/Paul_Williams_(Songwriter)</td>\n",
       "      <td>http://stardog.com/tutorial/Songwriter</td>\n",
       "      <td>Paul Hamilton Williams, Jr. (born September 19, 1940) is an American composer, singer, Songwriter and actor. He is perhaps best known for popular songs performed by a number of acts in the 1970s including Three Dog Night's version of \"An Old Fashioned Love Song\", Helen Reddy's \"You and Me Against the World\", David Bowie's \"Fill Your Heart\", and the Carpenters' \"We've Only Just Begun\" and \"Rainy Days and Mondays\", as well as his contributions to films, such as writing the lyrics to the #1 chart-topping \"Evergreen\", the love theme from A Star Is Born, starring Barbra Streisand, for which he won a Grammy for Song of the Year and an Academy Award for Best Original Song; and \"Rainbow Connection\" from The Muppet Movie. He also wrote the lyrics to the opening theme for The Love Boat, with music p</td>\n",
       "    </tr>\n",
       "    <tr>\n",
       "      <th>1</th>\n",
       "      <td>11.454201</td>\n",
       "      <td>http://stardog.com/tutorial/Josh_Kear</td>\n",
       "      <td>http://stardog.com/tutorial/Songwriter</td>\n",
       "      <td>Josh Kear is a Nashville-based Songwriter who has become known as one of the country genre’s most consistent hit makers. He has spent nearly thirteen years writing for independent powerhouse Big Yellow Dog Music. In 2007, he had his breakthrough number one song with Carrie Underwood’s massive hit “Before He Cheats” which spent five weeks at the top of the charts. Josh recently celebrated his 11th number one song \"Drinking Class” by country star Lee Brice, , which was the most played country song of 2015 according to the Billboard country airplay chart.</td>\n",
       "    </tr>\n",
       "  </tbody>\n",
       "</table>\n",
       "</div>"
      ],
      "text/plain": [
       "       score                                                  source  \\\n",
       "0  11.454201  http://stardog.com/tutorial/Paul_Williams_(Songwriter)   \n",
       "1  11.454201                   http://stardog.com/tutorial/Josh_Kear   \n",
       "\n",
       "                                    class  \\\n",
       "0  http://stardog.com/tutorial/Songwriter   \n",
       "1  http://stardog.com/tutorial/Songwriter   \n",
       "\n",
       "                                                                                                                                                                                                                                                                                                                                                                                                                                                                                                                                                                                                                                                                                                                                                                                                                             result  \n",
       "0  Paul Hamilton Williams, Jr. (born September 19, 1940) is an American composer, singer, Songwriter and actor. He is perhaps best known for popular songs performed by a number of acts in the 1970s including Three Dog Night's version of \"An Old Fashioned Love Song\", Helen Reddy's \"You and Me Against the World\", David Bowie's \"Fill Your Heart\", and the Carpenters' \"We've Only Just Begun\" and \"Rainy Days and Mondays\", as well as his contributions to films, such as writing the lyrics to the #1 chart-topping \"Evergreen\", the love theme from A Star Is Born, starring Barbra Streisand, for which he won a Grammy for Song of the Year and an Academy Award for Best Original Song; and \"Rainbow Connection\" from The Muppet Movie. He also wrote the lyrics to the opening theme for The Love Boat, with music p  \n",
       "1                                                                                                                                                                                                                                                    Josh Kear is a Nashville-based Songwriter who has become known as one of the country genre’s most consistent hit makers. He has spent nearly thirteen years writing for independent powerhouse Big Yellow Dog Music. In 2007, he had his breakthrough number one song with Carrie Underwood’s massive hit “Before He Cheats” which spent five weeks at the top of the charts. Josh recently celebrated his 11th number one song \"Drinking Class” by country star Lee Brice, , which was the most played country song of 2015 according to the Billboard country airplay chart.  "
      ]
     },
     "execution_count": 1,
     "metadata": {},
     "output_type": "execute_result"
    }
   ],
   "source": [
    "query = \"\"\"prefix fts: <tag:stardog:api:search:>\n",
    "\n",
    "SELECT ?score ?source ?class ?result WHERE {\n",
    "  service fts:textMatch {\n",
    "      [] fts:query ?query ;\n",
    "         fts:score ?score ;\n",
    "         fts:result ?result ;\n",
    "  }\n",
    "  ?source a ?class ;\n",
    "      ?predicate ?result .\n",
    "}\n",
    "order by desc(?score)\"\"\"\n",
    "\n",
    "csv_results = conn.select(query, content_type=stardog.content_types.CSV, bindings={'query': '\"star AND dog\"'})\n",
    "df = pd.read_csv(io.BytesIO(csv_results))\n",
    "pd.set_option('display.max_colwidth', None) # don't truncate when displaying the result\n",
    "df"
   ]
  },
  {
   "cell_type": "markdown",
   "metadata": {},
   "source": [
    "### Alternate result content types\n",
    "\n",
    "Stardog can return the results in formats besides `CSV` including `SPARQL_XML` and `SPARQL_JSON`. An example is provided below."
   ]
  },
  {
   "cell_type": "code",
   "execution_count": 1,
   "metadata": {},
   "outputs": [
    {
     "data": {
      "text/plain": [
       "{'head': {'vars': ['score', 'source', 'class', 'result']},\n",
       " 'results': {'bindings': [{'result': {'type': 'literal',\n",
       "     'value': 'Paul Hamilton Williams, Jr. (born September 19, 1940) is an American composer, singer, Songwriter and actor. He is perhaps best known for popular songs performed by a number of acts in the 1970s including Three Dog Night\\'s version of \"An Old Fashioned Love Song\", Helen Reddy\\'s \"You and Me Against the World\", David Bowie\\'s \"Fill Your Heart\", and the Carpenters\\' \"We\\'ve Only Just Begun\" and \"Rainy Days and Mondays\", as well as his contributions to films, such as writing the lyrics to the #1 chart-topping \"Evergreen\", the love theme from A Star Is Born, starring Barbra Streisand, for which he won a Grammy for Song of the Year and an Academy Award for Best Original Song; and \"Rainbow Connection\" from The Muppet Movie. He also wrote the lyrics to the opening theme for The Love Boat, with music p'},\n",
       "    'score': {'datatype': 'http://www.w3.org/2001/XMLSchema#double',\n",
       "     'type': 'literal',\n",
       "     'value': '11.454200744628906'},\n",
       "    'source': {'type': 'uri',\n",
       "     'value': 'http://stardog.com/tutorial/Paul_Williams_(Songwriter)'},\n",
       "    'class': {'type': 'uri',\n",
       "     'value': 'http://stardog.com/tutorial/Songwriter'}},\n",
       "   {'result': {'type': 'literal',\n",
       "     'value': 'Josh Kear is a Nashville-based Songwriter who has become known as one of the country genre’s most consistent hit makers. He has spent nearly thirteen years writing for independent powerhouse Big Yellow Dog Music. In 2007, he had his breakthrough number one song with Carrie Underwood’s massive hit “Before He Cheats” which spent five weeks at the top of the charts. Josh recently celebrated his 11th number one song \"Drinking Class” by country star Lee Brice, , which was the most played country song of 2015 according to the Billboard country airplay chart.'},\n",
       "    'score': {'datatype': 'http://www.w3.org/2001/XMLSchema#double',\n",
       "     'type': 'literal',\n",
       "     'value': '11.454200744628906'},\n",
       "    'source': {'type': 'uri',\n",
       "     'value': 'http://stardog.com/tutorial/Josh_Kear'},\n",
       "    'class': {'type': 'uri',\n",
       "     'value': 'http://stardog.com/tutorial/Songwriter'}}]}}"
      ]
     },
     "execution_count": 1,
     "metadata": {},
     "output_type": "execute_result"
    }
   ],
   "source": [
    "conn.select(query, content_type=stardog.content_types.SPARQL_JSON, bindings={'query': '\"star AND dog\"'})"
   ]
  },
  {
   "cell_type": "markdown",
   "metadata": {},
   "source": [
    "### Clean up the connection\n",
    "\n",
    "The connection can also be closed manually. A `with statement` will also work as expected"
   ]
  },
  {
   "cell_type": "code",
   "execution_count": 1,
   "metadata": {},
   "outputs": [],
   "source": [
    "conn.__exit__()"
   ]
  }
 ],
 "metadata": {
  "kernelspec": {
   "display_name": "Python 3",
   "language": "python",
   "name": "python3"
  },
  "language_info": {
   "codemirror_mode": {
    "name": "ipython",
    "version": 3
   },
   "file_extension": ".py",
   "mimetype": "text/x-python",
   "name": "python",
   "nbconvert_exporter": "python",
   "pygments_lexer": "ipython3",
   "version": "3.9.2"
  }
 },
 "nbformat": 4,
 "nbformat_minor": 2
}
